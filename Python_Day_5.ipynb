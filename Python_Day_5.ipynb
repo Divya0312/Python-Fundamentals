{
 "cells": [
  {
   "cell_type": "code",
   "execution_count": null,
   "id": "b71e1918",
   "metadata": {},
   "outputs": [],
   "source": [
    "Organising the list datatype:"
   ]
  },
  {
   "cell_type": "code",
   "execution_count": null,
   "id": "bfeb1dc1",
   "metadata": {},
   "outputs": [],
   "source": [
    "Two approaches,\n",
    "    1.temp approach---->sorted() - able to maintain the original order\n",
    "    2.permanent approach--->sort() - changes done permanently"
   ]
  },
  {
   "cell_type": "code",
   "execution_count": 1,
   "id": "2d876688",
   "metadata": {},
   "outputs": [
    {
     "name": "stdout",
     "output_type": "stream",
     "text": [
      "['suzuki', 'maruthu', 'audi', 'kia', 'benz', 'toyota', 'bmw']\n"
     ]
    }
   ],
   "source": [
    "cars=['suzuki','maruthu','audi','kia','benz','toyota','bmw']\n",
    "print(cars)"
   ]
  },
  {
   "cell_type": "code",
   "execution_count": 2,
   "id": "db2147ab",
   "metadata": {},
   "outputs": [
    {
     "name": "stdout",
     "output_type": "stream",
     "text": [
      "['audi', 'benz', 'bmw', 'kia', 'maruthu', 'suzuki', 'toyota']\n"
     ]
    }
   ],
   "source": [
    "print(sorted(cars))"
   ]
  },
  {
   "cell_type": "code",
   "execution_count": 3,
   "id": "257b5fed",
   "metadata": {},
   "outputs": [
    {
     "name": "stdout",
     "output_type": "stream",
     "text": [
      "['suzuki', 'maruthu', 'audi', 'kia', 'benz', 'toyota', 'bmw']\n"
     ]
    }
   ],
   "source": [
    "print(cars)"
   ]
  },
  {
   "cell_type": "code",
   "execution_count": 4,
   "id": "ca43ae8d",
   "metadata": {},
   "outputs": [
    {
     "name": "stdout",
     "output_type": "stream",
     "text": [
      "['audi', 'benz', 'bmw', 'kia', 'maruthu', 'suzuki', 'toyota']\n"
     ]
    }
   ],
   "source": [
    "cars.sort()\n",
    "print(cars)"
   ]
  },
  {
   "cell_type": "code",
   "execution_count": null,
   "id": "01f7e4ec",
   "metadata": {},
   "outputs": [],
   "source": [
    "To print in reverse order:"
   ]
  },
  {
   "cell_type": "code",
   "execution_count": 5,
   "id": "3b199e53",
   "metadata": {},
   "outputs": [
    {
     "name": "stdout",
     "output_type": "stream",
     "text": [
      "['toyota', 'suzuki', 'maruthu', 'kia', 'bmw', 'benz', 'audi']\n"
     ]
    }
   ],
   "source": [
    "cars.reverse()\n",
    "print(cars)"
   ]
  },
  {
   "cell_type": "code",
   "execution_count": null,
   "id": "995135a3",
   "metadata": {
    "collapsed": true
   },
   "outputs": [],
   "source": [
    "To calculate the length of the list:"
   ]
  },
  {
   "cell_type": "code",
   "execution_count": 6,
   "id": "e4e88399",
   "metadata": {},
   "outputs": [
    {
     "data": {
      "text/plain": [
       "7"
      ]
     },
     "execution_count": 6,
     "metadata": {},
     "output_type": "execute_result"
    }
   ],
   "source": [
    "len(cars)"
   ]
  },
  {
   "cell_type": "code",
   "execution_count": null,
   "id": "c5243e4c",
   "metadata": {},
   "outputs": [],
   "source": [
    "Zen of python:"
   ]
  },
  {
   "cell_type": "code",
   "execution_count": 7,
   "id": "c0701a35",
   "metadata": {},
   "outputs": [
    {
     "name": "stdout",
     "output_type": "stream",
     "text": [
      "The Zen of Python, by Tim Peters\n",
      "\n",
      "Beautiful is better than ugly.\n",
      "Explicit is better than implicit.\n",
      "Simple is better than complex.\n",
      "Complex is better than complicated.\n",
      "Flat is better than nested.\n",
      "Sparse is better than dense.\n",
      "Readability counts.\n",
      "Special cases aren't special enough to break the rules.\n",
      "Although practicality beats purity.\n",
      "Errors should never pass silently.\n",
      "Unless explicitly silenced.\n",
      "In the face of ambiguity, refuse the temptation to guess.\n",
      "There should be one-- and preferably only one --obvious way to do it.\n",
      "Although that way may not be obvious at first unless you're Dutch.\n",
      "Now is better than never.\n",
      "Although never is often better than *right* now.\n",
      "If the implementation is hard to explain, it's a bad idea.\n",
      "If the implementation is easy to explain, it may be a good idea.\n",
      "Namespaces are one honking great idea -- let's do more of those!\n"
     ]
    }
   ],
   "source": [
    "import this"
   ]
  },
  {
   "cell_type": "code",
   "execution_count": null,
   "id": "64fac6c4",
   "metadata": {},
   "outputs": [],
   "source": [
    "Slicing of the list:\n",
    "    General syntax: [startvalue : stopvalue : stepcount]\n",
    "    Note: stop value is always exclusive. To include the stop value, we have to increase +1 in stopvalue"
   ]
  },
  {
   "cell_type": "code",
   "execution_count": 8,
   "id": "c00d9b06",
   "metadata": {},
   "outputs": [],
   "source": [
    "students=['varun','venu','nadeem','omkar','uroosa','sudha']"
   ]
  },
  {
   "cell_type": "code",
   "execution_count": null,
   "id": "6a37558f",
   "metadata": {},
   "outputs": [],
   "source": [
    "To get the names of varun and venu,"
   ]
  },
  {
   "cell_type": "code",
   "execution_count": 9,
   "id": "1814a9d3",
   "metadata": {},
   "outputs": [
    {
     "name": "stdout",
     "output_type": "stream",
     "text": [
      "['varun']\n"
     ]
    }
   ],
   "source": [
    "print(students[0:1])"
   ]
  },
  {
   "cell_type": "code",
   "execution_count": 10,
   "id": "5b79b157",
   "metadata": {},
   "outputs": [
    {
     "name": "stdout",
     "output_type": "stream",
     "text": [
      "['varun', 'venu']\n"
     ]
    }
   ],
   "source": [
    "print(students[0:2])"
   ]
  },
  {
   "cell_type": "code",
   "execution_count": null,
   "id": "d53bf0ff",
   "metadata": {},
   "outputs": [],
   "source": [
    "To print nadeem and omkar,"
   ]
  },
  {
   "cell_type": "code",
   "execution_count": 11,
   "id": "1c2b62e8",
   "metadata": {},
   "outputs": [
    {
     "name": "stdout",
     "output_type": "stream",
     "text": [
      "['nadeem', 'omkar']\n"
     ]
    }
   ],
   "source": [
    "print(students[2:4])"
   ]
  }
 ],
 "metadata": {
  "kernelspec": {
   "display_name": "Python 3 (ipykernel)",
   "language": "python",
   "name": "python3"
  },
  "language_info": {
   "codemirror_mode": {
    "name": "ipython",
    "version": 3
   },
   "file_extension": ".py",
   "mimetype": "text/x-python",
   "name": "python",
   "nbconvert_exporter": "python",
   "pygments_lexer": "ipython3",
   "version": "3.9.13"
  }
 },
 "nbformat": 4,
 "nbformat_minor": 5
}
