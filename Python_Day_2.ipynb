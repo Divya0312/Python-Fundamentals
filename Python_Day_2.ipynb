{
 "cells": [
  {
   "cell_type": "code",
   "execution_count": null,
   "id": "348c292f",
   "metadata": {},
   "outputs": [],
   "source": [
    "Understanding the variables:"
   ]
  },
  {
   "cell_type": "code",
   "execution_count": 1,
   "id": "801a535f",
   "metadata": {},
   "outputs": [],
   "source": [
    "x=2\n",
    "y=3"
   ]
  },
  {
   "cell_type": "code",
   "execution_count": 2,
   "id": "de3aab9d",
   "metadata": {},
   "outputs": [
    {
     "name": "stdout",
     "output_type": "stream",
     "text": [
      "5\n"
     ]
    }
   ],
   "source": [
    "z=x+y\n",
    "print(z)"
   ]
  },
  {
   "cell_type": "code",
   "execution_count": 3,
   "id": "2e6fc613",
   "metadata": {},
   "outputs": [
    {
     "name": "stdout",
     "output_type": "stream",
     "text": [
      "ABC\n"
     ]
    }
   ],
   "source": [
    "firstname='ABC'\n",
    "print(firstname)"
   ]
  },
  {
   "cell_type": "code",
   "execution_count": 4,
   "id": "34e60ae4",
   "metadata": {},
   "outputs": [
    {
     "ename": "SyntaxError",
     "evalue": "invalid syntax (2166369606.py, line 1)",
     "output_type": "error",
     "traceback": [
      "\u001b[1;36m  File \u001b[1;32m\"C:\\Users\\admin\\AppData\\Local\\Temp\\ipykernel_10124\\2166369606.py\"\u001b[1;36m, line \u001b[1;32m1\u001b[0m\n\u001b[1;33m    first name='ABC'\u001b[0m\n\u001b[1;37m          ^\u001b[0m\n\u001b[1;31mSyntaxError\u001b[0m\u001b[1;31m:\u001b[0m invalid syntax\n"
     ]
    }
   ],
   "source": [
    "first name='ABC'\n",
    "print(first name) #should not use space"
   ]
  },
  {
   "cell_type": "code",
   "execution_count": 5,
   "id": "3bab76eb",
   "metadata": {},
   "outputs": [
    {
     "name": "stdout",
     "output_type": "stream",
     "text": [
      "ABC\n"
     ]
    }
   ],
   "source": [
    "first_name='ABC'\n",
    "print(first_name) #instead we can use underscore"
   ]
  },
  {
   "cell_type": "code",
   "execution_count": 6,
   "id": "50724169",
   "metadata": {},
   "outputs": [
    {
     "ename": "SyntaxError",
     "evalue": "invalid syntax (1823996447.py, line 2)",
     "output_type": "error",
     "traceback": [
      "\u001b[1;36m  File \u001b[1;32m\"C:\\Users\\admin\\AppData\\Local\\Temp\\ipykernel_10124\\1823996447.py\"\u001b[1;36m, line \u001b[1;32m2\u001b[0m\n\u001b[1;33m    print(name@) #should not use special characters\u001b[0m\n\u001b[1;37m               ^\u001b[0m\n\u001b[1;31mSyntaxError\u001b[0m\u001b[1;31m:\u001b[0m invalid syntax\n"
     ]
    }
   ],
   "source": [
    "name@='ABC'\n",
    "print(name@) #should not use special characters"
   ]
  },
  {
   "cell_type": "code",
   "execution_count": null,
   "id": "f078bb97",
   "metadata": {},
   "outputs": [],
   "source": [
    "Datatypes in python:\n",
    "    1.string(str)\n",
    "    2.numbers(int)\n",
    "    3.list(list)\n",
    "    4.tuples(tuple)\n",
    "    5.dictionaries(dict)"
   ]
  },
  {
   "cell_type": "code",
   "execution_count": null,
   "id": "71efd7ba",
   "metadata": {},
   "outputs": [],
   "source": [
    "Classifications of datatypes:\n",
    "    1.mutable - editable/flexible\n",
    "    2.immutable - fixed"
   ]
  },
  {
   "cell_type": "code",
   "execution_count": null,
   "id": "9843f46c",
   "metadata": {},
   "outputs": [],
   "source": [
    "String datatype:"
   ]
  },
  {
   "cell_type": "code",
   "execution_count": 7,
   "id": "bc819d25",
   "metadata": {},
   "outputs": [
    {
     "name": "stdout",
     "output_type": "stream",
     "text": [
      "john\n"
     ]
    }
   ],
   "source": [
    "name1='john'\n",
    "print(name1) #single qoute"
   ]
  },
  {
   "cell_type": "code",
   "execution_count": 8,
   "id": "c1f4457a",
   "metadata": {},
   "outputs": [
    {
     "name": "stdout",
     "output_type": "stream",
     "text": [
      "karthick\n"
     ]
    }
   ],
   "source": [
    "name2=\"karthick\"\n",
    "print(name2) #double qoute"
   ]
  },
  {
   "cell_type": "code",
   "execution_count": 9,
   "id": "e8722050",
   "metadata": {},
   "outputs": [
    {
     "name": "stdout",
     "output_type": "stream",
     "text": [
      "'abi'\n"
     ]
    }
   ],
   "source": [
    "name3=\"'abi'\"\n",
    "print(name3) #triple qoute"
   ]
  },
  {
   "cell_type": "code",
   "execution_count": null,
   "id": "2b03e5f1",
   "metadata": {},
   "outputs": [],
   "source": [
    "Understanding the string:"
   ]
  },
  {
   "cell_type": "code",
   "execution_count": 10,
   "id": "dcbb935a",
   "metadata": {},
   "outputs": [
    {
     "data": {
      "text/plain": [
       "str"
      ]
     },
     "execution_count": 10,
     "metadata": {},
     "output_type": "execute_result"
    }
   ],
   "source": [
    "type(name1)"
   ]
  },
  {
   "cell_type": "code",
   "execution_count": 11,
   "id": "f509189e",
   "metadata": {},
   "outputs": [
    {
     "name": "stdout",
     "output_type": "stream",
     "text": [
      "Binay Mishra\n"
     ]
    }
   ],
   "source": [
    "fullname='binay Mishra'\n",
    "print(fullname.title())"
   ]
  },
  {
   "cell_type": "code",
   "execution_count": 12,
   "id": "de0daa06",
   "metadata": {},
   "outputs": [
    {
     "name": "stdout",
     "output_type": "stream",
     "text": [
      "BINAY MISHRA\n"
     ]
    }
   ],
   "source": [
    "print(fullname.upper())"
   ]
  },
  {
   "cell_type": "code",
   "execution_count": 13,
   "id": "0dde8258",
   "metadata": {},
   "outputs": [
    {
     "name": "stdout",
     "output_type": "stream",
     "text": [
      "binay mishra\n"
     ]
    }
   ],
   "source": [
    "print(fullname.lower())"
   ]
  },
  {
   "cell_type": "code",
   "execution_count": null,
   "id": "c7dd12ea",
   "metadata": {},
   "outputs": [],
   "source": [
    "Combining the strings:"
   ]
  },
  {
   "cell_type": "code",
   "execution_count": 20,
   "id": "da3d97f4",
   "metadata": {},
   "outputs": [],
   "source": [
    "first='vijay'"
   ]
  },
  {
   "cell_type": "code",
   "execution_count": 21,
   "id": "272a2d98",
   "metadata": {},
   "outputs": [],
   "source": [
    "last='kumar'"
   ]
  },
  {
   "cell_type": "code",
   "execution_count": 24,
   "id": "882f741b",
   "metadata": {},
   "outputs": [
    {
     "name": "stdout",
     "output_type": "stream",
     "text": [
      "vijay kumar\n"
     ]
    }
   ],
   "source": [
    "full=f\"{first} {last}\"\n",
    "print(full)"
   ]
  },
  {
   "cell_type": "code",
   "execution_count": 25,
   "id": "8f8fa6e3",
   "metadata": {},
   "outputs": [
    {
     "name": "stdout",
     "output_type": "stream",
     "text": [
      "vijay kumar\n"
     ]
    }
   ],
   "source": [
    "print(f\"{first} {last}\")"
   ]
  },
  {
   "cell_type": "code",
   "execution_count": 26,
   "id": "089f14bb",
   "metadata": {},
   "outputs": [
    {
     "name": "stdout",
     "output_type": "stream",
     "text": [
      "Vijay Kumar\n"
     ]
    }
   ],
   "source": [
    "print(f\"{first} {last}\".title())"
   ]
  },
  {
   "cell_type": "code",
   "execution_count": null,
   "id": "30277d65",
   "metadata": {},
   "outputs": [],
   "source": [
    "Custom words:"
   ]
  },
  {
   "cell_type": "code",
   "execution_count": 27,
   "id": "7eb87cd8",
   "metadata": {},
   "outputs": [
    {
     "name": "stdout",
     "output_type": "stream",
     "text": [
      "Keep up the good work,Vijay Kumar\n"
     ]
    }
   ],
   "source": [
    "print(f\"Keep up the good work,{full.title()}\")"
   ]
  },
  {
   "cell_type": "code",
   "execution_count": null,
   "id": "57357964",
   "metadata": {},
   "outputs": [],
   "source": [
    "New line delimiter(\\n):"
   ]
  },
  {
   "cell_type": "code",
   "execution_count": 28,
   "id": "4693af9a",
   "metadata": {},
   "outputs": [
    {
     "name": "stdout",
     "output_type": "stream",
     "text": [
      "favourite_language:\n",
      "python\n",
      "java\n",
      "cobal\n"
     ]
    }
   ],
   "source": [
    "print(\"favourite_language:\\npython\\njava\\ncobal\")"
   ]
  },
  {
   "cell_type": "code",
   "execution_count": null,
   "id": "44a8cf92",
   "metadata": {},
   "outputs": [],
   "source": [
    "Tab delimiter(\\t):"
   ]
  },
  {
   "cell_type": "code",
   "execution_count": 29,
   "id": "bebaaf79",
   "metadata": {},
   "outputs": [
    {
     "name": "stdout",
     "output_type": "stream",
     "text": [
      "favourite_language:\tpython\tjava\tcobal\n"
     ]
    }
   ],
   "source": [
    "print(\"favourite_language:\\tpython\\tjava\\tcobal\")"
   ]
  },
  {
   "cell_type": "code",
   "execution_count": null,
   "id": "0f42c8fe",
   "metadata": {},
   "outputs": [],
   "source": []
  }
 ],
 "metadata": {
  "kernelspec": {
   "display_name": "Python 3 (ipykernel)",
   "language": "python",
   "name": "python3"
  },
  "language_info": {
   "codemirror_mode": {
    "name": "ipython",
    "version": 3
   },
   "file_extension": ".py",
   "mimetype": "text/x-python",
   "name": "python",
   "nbconvert_exporter": "python",
   "pygments_lexer": "ipython3",
   "version": "3.9.13"
  }
 },
 "nbformat": 4,
 "nbformat_minor": 5
}
