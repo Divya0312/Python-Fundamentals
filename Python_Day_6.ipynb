{
 "cells": [
  {
   "cell_type": "code",
   "execution_count": null,
   "id": "b9fa0eff",
   "metadata": {},
   "outputs": [],
   "source": [
    "Introduction to looping statement:"
   ]
  },
  {
   "cell_type": "code",
   "execution_count": null,
   "id": "57bfaf23",
   "metadata": {},
   "outputs": [],
   "source": [
    "1.Understanding the concept of for loop:\n",
    "    General syntax - for tempvar in mainvar:\n",
    "                        print(tempvar)"
   ]
  },
  {
   "cell_type": "code",
   "execution_count": 1,
   "id": "b75e5a4c",
   "metadata": {},
   "outputs": [],
   "source": [
    "students=['kumar','naveen','sruthi','shifa','aravind','joseph']"
   ]
  },
  {
   "cell_type": "code",
   "execution_count": 2,
   "id": "8b576fb4",
   "metadata": {},
   "outputs": [
    {
     "name": "stdout",
     "output_type": "stream",
     "text": [
      "keep up the good work,kumar\n"
     ]
    }
   ],
   "source": [
    "print(f\"keep up the good work,{students[0]}\")"
   ]
  },
  {
   "cell_type": "code",
   "execution_count": null,
   "id": "649f8d84",
   "metadata": {},
   "outputs": [],
   "source": [
    "To print all the elements in the list in above format,"
   ]
  },
  {
   "cell_type": "code",
   "execution_count": 3,
   "id": "d23a15c0",
   "metadata": {},
   "outputs": [
    {
     "name": "stdout",
     "output_type": "stream",
     "text": [
      "keep up the good work,kumar\n",
      "keep up the good work,naveen\n",
      "keep up the good work,sruthi\n",
      "keep up the good work,shifa\n",
      "keep up the good work,aravind\n",
      "keep up the good work,joseph\n"
     ]
    }
   ],
   "source": [
    "for x in students:\n",
    "    print(f\"keep up the good work,{x}\")"
   ]
  },
  {
   "cell_type": "code",
   "execution_count": 4,
   "id": "a5a483fb",
   "metadata": {},
   "outputs": [
    {
     "name": "stdout",
     "output_type": "stream",
     "text": [
      "keep up the good work,kumar\n",
      "Iam lookin forward to receive your github notes regularly\n",
      "keep up the good work,naveen\n",
      "Iam lookin forward to receive your github notes regularly\n",
      "keep up the good work,sruthi\n",
      "Iam lookin forward to receive your github notes regularly\n",
      "keep up the good work,shifa\n",
      "Iam lookin forward to receive your github notes regularly\n",
      "keep up the good work,aravind\n",
      "Iam lookin forward to receive your github notes regularly\n",
      "keep up the good work,joseph\n",
      "Iam lookin forward to receive your github notes regularly\n"
     ]
    }
   ],
   "source": [
    "for x in students:\n",
    "    print(f\"keep up the good work,{x}\")\n",
    "    print(f\"Iam lookin forward to receive your github notes regularly\")"
   ]
  },
  {
   "cell_type": "code",
   "execution_count": 5,
   "id": "0cdb364c",
   "metadata": {},
   "outputs": [
    {
     "name": "stdout",
     "output_type": "stream",
     "text": [
      "keep up the good work,kumar\n",
      "Iam lookin forward to receive your github notes regularly\n",
      "\n",
      "keep up the good work,naveen\n",
      "Iam lookin forward to receive your github notes regularly\n",
      "\n",
      "keep up the good work,sruthi\n",
      "Iam lookin forward to receive your github notes regularly\n",
      "\n",
      "keep up the good work,shifa\n",
      "Iam lookin forward to receive your github notes regularly\n",
      "\n",
      "keep up the good work,aravind\n",
      "Iam lookin forward to receive your github notes regularly\n",
      "\n",
      "keep up the good work,joseph\n",
      "Iam lookin forward to receive your github notes regularly\n",
      "\n"
     ]
    }
   ],
   "source": [
    "for x in students:\n",
    "    print(f\"keep up the good work,{x}\")\n",
    "    print(f\"Iam lookin forward to receive your github notes regularly\\n\")"
   ]
  },
  {
   "cell_type": "code",
   "execution_count": 6,
   "id": "5c16f4aa",
   "metadata": {},
   "outputs": [
    {
     "name": "stdout",
     "output_type": "stream",
     "text": [
      "keep up the good work,kumar\n",
      "Iam lookin forward to receive your github notes regularly\n",
      "\n",
      "keep up the good work,naveen\n",
      "Iam lookin forward to receive your github notes regularly\n",
      "\n",
      "keep up the good work,sruthi\n",
      "Iam lookin forward to receive your github notes regularly\n",
      "\n",
      "keep up the good work,shifa\n",
      "Iam lookin forward to receive your github notes regularly\n",
      "\n",
      "keep up the good work,aravind\n",
      "Iam lookin forward to receive your github notes regularly\n",
      "\n",
      "keep up the good work,joseph\n",
      "Iam lookin forward to receive your github notes regularly\n",
      "\n",
      "Thank you all for showing interest in learning python\n"
     ]
    }
   ],
   "source": [
    "for x in students:\n",
    "    print(f\"keep up the good work,{x}\")\n",
    "    print(f\"Iam lookin forward to receive your github notes regularly\\n\")\n",
    "print(\"Thank you all for showing interest in learning python\")"
   ]
  },
  {
   "cell_type": "code",
   "execution_count": null,
   "id": "11011dfe",
   "metadata": {},
   "outputs": [],
   "source": [
    "Introduction to tuple datatype:\n",
    "    An immutable list is called as tuple datatype.\n",
    "    To define tuple - ()"
   ]
  },
  {
   "cell_type": "code",
   "execution_count": 7,
   "id": "f9a3045a",
   "metadata": {},
   "outputs": [
    {
     "name": "stdout",
     "output_type": "stream",
     "text": [
      "(200, 100, 50)\n"
     ]
    }
   ],
   "source": [
    "dimensions = (200,100,50)\n",
    "print(dimensions)"
   ]
  },
  {
   "cell_type": "code",
   "execution_count": 8,
   "id": "ed1743d6",
   "metadata": {},
   "outputs": [
    {
     "data": {
      "text/plain": [
       "tuple"
      ]
     },
     "execution_count": 8,
     "metadata": {},
     "output_type": "execute_result"
    }
   ],
   "source": [
    "type(dimensions)"
   ]
  },
  {
   "cell_type": "code",
   "execution_count": 9,
   "id": "4fde178f",
   "metadata": {},
   "outputs": [
    {
     "ename": "TypeError",
     "evalue": "'tuple' object does not support item assignment",
     "output_type": "error",
     "traceback": [
      "\u001b[1;31m---------------------------------------------------------------------------\u001b[0m",
      "\u001b[1;31mTypeError\u001b[0m                                 Traceback (most recent call last)",
      "\u001b[1;32m~\\AppData\\Local\\Temp\\ipykernel_13488\\218318254.py\u001b[0m in \u001b[0;36m<module>\u001b[1;34m\u001b[0m\n\u001b[1;32m----> 1\u001b[1;33m \u001b[0mdimensions\u001b[0m\u001b[1;33m[\u001b[0m\u001b[1;36m1\u001b[0m\u001b[1;33m]\u001b[0m \u001b[1;33m=\u001b[0m \u001b[1;36m150\u001b[0m\u001b[1;33m\u001b[0m\u001b[1;33m\u001b[0m\u001b[0m\n\u001b[0m",
      "\u001b[1;31mTypeError\u001b[0m: 'tuple' object does not support item assignment"
     ]
    }
   ],
   "source": [
    "dimensions[1] = 150"
   ]
  },
  {
   "cell_type": "code",
   "execution_count": null,
   "id": "34c77141",
   "metadata": {},
   "outputs": [],
   "source": [
    "Because tupe object cannot support item assignment"
   ]
  },
  {
   "cell_type": "code",
   "execution_count": 10,
   "id": "786685b8",
   "metadata": {},
   "outputs": [
    {
     "name": "stdout",
     "output_type": "stream",
     "text": [
      "100\n"
     ]
    }
   ],
   "source": [
    "print(dimensions[1])"
   ]
  },
  {
   "cell_type": "code",
   "execution_count": 11,
   "id": "94f0ba03",
   "metadata": {},
   "outputs": [
    {
     "name": "stdout",
     "output_type": "stream",
     "text": [
      "200\n",
      "100\n",
      "50\n"
     ]
    }
   ],
   "source": [
    "for x in dimensions:\n",
    "    print(x)"
   ]
  },
  {
   "cell_type": "code",
   "execution_count": null,
   "id": "6f6bd653",
   "metadata": {},
   "outputs": [],
   "source": [
    "Introduction to dictionary datatype:\n",
    "    Definition - A dictionary is the combination of key-value pair.\n",
    "    Classification - mutable datatype\n",
    "    To define dictionary - [],{}"
   ]
  },
  {
   "cell_type": "code",
   "execution_count": 12,
   "id": "be6c9f8c",
   "metadata": {},
   "outputs": [
    {
     "name": "stdout",
     "output_type": "stream",
     "text": [
      "{'color': 'green', 'point': 5}\n"
     ]
    }
   ],
   "source": [
    "alien={'color':'green','point':5}\n",
    "print(alien)"
   ]
  },
  {
   "cell_type": "code",
   "execution_count": 13,
   "id": "5fa686ef",
   "metadata": {},
   "outputs": [
    {
     "data": {
      "text/plain": [
       "dict"
      ]
     },
     "execution_count": 13,
     "metadata": {},
     "output_type": "execute_result"
    }
   ],
   "source": [
    "type(alien)"
   ]
  },
  {
   "cell_type": "code",
   "execution_count": null,
   "id": "35b89a55",
   "metadata": {},
   "outputs": [],
   "source": [
    "Note: Key is acting as the index value of the dictionary"
   ]
  },
  {
   "cell_type": "code",
   "execution_count": null,
   "id": "bf8de274",
   "metadata": {},
   "outputs": [],
   "source": [
    "To know the color of the alien,"
   ]
  },
  {
   "cell_type": "code",
   "execution_count": 14,
   "id": "19157f75",
   "metadata": {},
   "outputs": [
    {
     "name": "stdout",
     "output_type": "stream",
     "text": [
      "green\n"
     ]
    }
   ],
   "source": [
    "print(alien['color'])"
   ]
  },
  {
   "cell_type": "code",
   "execution_count": null,
   "id": "e0966fc2",
   "metadata": {},
   "outputs": [],
   "source": [
    "Note: If we give value instead of key, it will throw the error"
   ]
  },
  {
   "cell_type": "code",
   "execution_count": 15,
   "id": "d45c59f1",
   "metadata": {},
   "outputs": [
    {
     "ename": "KeyError",
     "evalue": "'green'",
     "output_type": "error",
     "traceback": [
      "\u001b[1;31m---------------------------------------------------------------------------\u001b[0m",
      "\u001b[1;31mKeyError\u001b[0m                                  Traceback (most recent call last)",
      "\u001b[1;32m~\\AppData\\Local\\Temp\\ipykernel_13488\\3756911678.py\u001b[0m in \u001b[0;36m<module>\u001b[1;34m\u001b[0m\n\u001b[1;32m----> 1\u001b[1;33m \u001b[0mprint\u001b[0m\u001b[1;33m(\u001b[0m\u001b[0malien\u001b[0m\u001b[1;33m[\u001b[0m\u001b[1;34m'green'\u001b[0m\u001b[1;33m]\u001b[0m\u001b[1;33m)\u001b[0m\u001b[1;33m\u001b[0m\u001b[1;33m\u001b[0m\u001b[0m\n\u001b[0m",
      "\u001b[1;31mKeyError\u001b[0m: 'green'"
     ]
    }
   ],
   "source": [
    "print(alien['green'])"
   ]
  },
  {
   "cell_type": "code",
   "execution_count": null,
   "id": "6b265832",
   "metadata": {},
   "outputs": [],
   "source": [
    "To add new key:value pair,\n",
    "    To add pair\"start_point:0\","
   ]
  },
  {
   "cell_type": "code",
   "execution_count": 16,
   "id": "eda5eac2",
   "metadata": {},
   "outputs": [],
   "source": [
    "alien['start_point']=0"
   ]
  },
  {
   "cell_type": "code",
   "execution_count": 17,
   "id": "9a4d91f9",
   "metadata": {},
   "outputs": [
    {
     "name": "stdout",
     "output_type": "stream",
     "text": [
      "{'color': 'green', 'point': 5, 'start_point': 0}\n"
     ]
    }
   ],
   "source": [
    "print(alien)"
   ]
  },
  {
   "cell_type": "code",
   "execution_count": null,
   "id": "69dbca66",
   "metadata": {},
   "outputs": [],
   "source": [
    "To modify the color green to yellow,"
   ]
  },
  {
   "cell_type": "code",
   "execution_count": 18,
   "id": "a578d3c7",
   "metadata": {},
   "outputs": [],
   "source": [
    "alien['color']='yellow'"
   ]
  },
  {
   "cell_type": "code",
   "execution_count": 19,
   "id": "62c10399",
   "metadata": {},
   "outputs": [
    {
     "name": "stdout",
     "output_type": "stream",
     "text": [
      "{'color': 'yellow', 'point': 5, 'start_point': 0}\n"
     ]
    }
   ],
   "source": [
    "print(alien)"
   ]
  },
  {
   "cell_type": "code",
   "execution_count": null,
   "id": "0834684c",
   "metadata": {},
   "outputs": [],
   "source": [
    "To delete the key:value pair,"
   ]
  },
  {
   "cell_type": "code",
   "execution_count": 20,
   "id": "8eb61539",
   "metadata": {},
   "outputs": [
    {
     "name": "stdout",
     "output_type": "stream",
     "text": [
      "{'color': 'yellow', 'point': 5}\n"
     ]
    }
   ],
   "source": [
    "del alien['start_point']\n",
    "print(alien)"
   ]
  },
  {
   "cell_type": "code",
   "execution_count": null,
   "id": "89d1ffad",
   "metadata": {},
   "outputs": [],
   "source": [
    "For eg., dictionary can be used in the creating facebook account\n",
    "    username : codetraining ===> key : value pair\n",
    "    firstname : code\n",
    "    lastname : training\n",
    "    phno : 9876543210\n",
    "    dob : 01-01-2022\n",
    "    password : 12345\n",
    "In this kind of senarios dictionary datatype can be used"
   ]
  },
  {
   "cell_type": "code",
   "execution_count": null,
   "id": "b763a098",
   "metadata": {},
   "outputs": [],
   "source": [
    "Note: We cannot modify the key but we can able to modify the value."
   ]
  }
 ],
 "metadata": {
  "kernelspec": {
   "display_name": "Python 3 (ipykernel)",
   "language": "python",
   "name": "python3"
  },
  "language_info": {
   "codemirror_mode": {
    "name": "ipython",
    "version": 3
   },
   "file_extension": ".py",
   "mimetype": "text/x-python",
   "name": "python",
   "nbconvert_exporter": "python",
   "pygments_lexer": "ipython3",
   "version": "3.9.13"
  }
 },
 "nbformat": 4,
 "nbformat_minor": 5
}
