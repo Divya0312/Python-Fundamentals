{
 "cells": [
  {
   "cell_type": "code",
   "execution_count": null,
   "id": "cbb3e483",
   "metadata": {},
   "outputs": [],
   "source": [
    "Introduction to list datatype:"
   ]
  },
  {
   "cell_type": "code",
   "execution_count": 1,
   "id": "146cfd88",
   "metadata": {},
   "outputs": [],
   "source": [
    "students=['ravi','naveen','joseph','kavitha']"
   ]
  },
  {
   "cell_type": "code",
   "execution_count": 2,
   "id": "90c1f1ac",
   "metadata": {},
   "outputs": [
    {
     "name": "stdout",
     "output_type": "stream",
     "text": [
      "['ravi', 'naveen', 'joseph', 'kavitha']\n"
     ]
    }
   ],
   "source": [
    "print(students)"
   ]
  },
  {
   "cell_type": "code",
   "execution_count": 3,
   "id": "c5150ce8",
   "metadata": {},
   "outputs": [
    {
     "name": "stdout",
     "output_type": "stream",
     "text": [
      "naveen\n"
     ]
    }
   ],
   "source": [
    "print(students[1])"
   ]
  },
  {
   "cell_type": "code",
   "execution_count": 5,
   "id": "1c71f79b",
   "metadata": {},
   "outputs": [
    {
     "name": "stdout",
     "output_type": "stream",
     "text": [
      "Naveen\n"
     ]
    }
   ],
   "source": [
    "print(students[1].title())"
   ]
  },
  {
   "cell_type": "code",
   "execution_count": null,
   "id": "180f416c",
   "metadata": {},
   "outputs": [],
   "source": [
    "To add new element to the list---->append():"
   ]
  },
  {
   "cell_type": "code",
   "execution_count": 6,
   "id": "1fa0bca1",
   "metadata": {},
   "outputs": [],
   "source": [
    "students.append('kumar')"
   ]
  },
  {
   "cell_type": "code",
   "execution_count": 7,
   "id": "2a32b7bb",
   "metadata": {},
   "outputs": [
    {
     "name": "stdout",
     "output_type": "stream",
     "text": [
      "['ravi', 'naveen', 'joseph', 'kavitha', 'kumar']\n"
     ]
    }
   ],
   "source": [
    "print(students)"
   ]
  },
  {
   "cell_type": "code",
   "execution_count": null,
   "id": "e757a3ef",
   "metadata": {},
   "outputs": [],
   "source": [
    "To insert an element in the particular index--->insert():"
   ]
  },
  {
   "cell_type": "code",
   "execution_count": 8,
   "id": "1c25a41a",
   "metadata": {},
   "outputs": [],
   "source": [
    "students.insert(2,'keerthi')"
   ]
  },
  {
   "cell_type": "code",
   "execution_count": 9,
   "id": "bd85162e",
   "metadata": {},
   "outputs": [
    {
     "name": "stdout",
     "output_type": "stream",
     "text": [
      "['ravi', 'naveen', 'keerthi', 'joseph', 'kavitha', 'kumar']\n"
     ]
    }
   ],
   "source": [
    "print(students)"
   ]
  },
  {
   "cell_type": "code",
   "execution_count": null,
   "id": "dda9cce5",
   "metadata": {},
   "outputs": [],
   "source": [
    "To modify the element in the list:"
   ]
  },
  {
   "cell_type": "code",
   "execution_count": 10,
   "id": "104829c4",
   "metadata": {},
   "outputs": [],
   "source": [
    "students[1]='jagan'"
   ]
  },
  {
   "cell_type": "code",
   "execution_count": 11,
   "id": "8eed98e9",
   "metadata": {},
   "outputs": [
    {
     "name": "stdout",
     "output_type": "stream",
     "text": [
      "['ravi', 'jagan', 'keerthi', 'joseph', 'kavitha', 'kumar']\n"
     ]
    }
   ],
   "source": [
    "print(students)"
   ]
  },
  {
   "cell_type": "code",
   "execution_count": null,
   "id": "bbf945b2",
   "metadata": {},
   "outputs": [],
   "source": [
    "To delete the element in the list:"
   ]
  },
  {
   "cell_type": "code",
   "execution_count": 12,
   "id": "1db7baab",
   "metadata": {},
   "outputs": [],
   "source": [
    "del students[0]"
   ]
  },
  {
   "cell_type": "code",
   "execution_count": 13,
   "id": "fc8d8d99",
   "metadata": {},
   "outputs": [
    {
     "name": "stdout",
     "output_type": "stream",
     "text": [
      "['jagan', 'keerthi', 'joseph', 'kavitha', 'kumar']\n"
     ]
    }
   ],
   "source": [
    "print(students)"
   ]
  },
  {
   "cell_type": "code",
   "execution_count": null,
   "id": "1cf6cc6d",
   "metadata": {},
   "outputs": [],
   "source": []
  }
 ],
 "metadata": {
  "kernelspec": {
   "display_name": "Python 3 (ipykernel)",
   "language": "python",
   "name": "python3"
  },
  "language_info": {
   "codemirror_mode": {
    "name": "ipython",
    "version": 3
   },
   "file_extension": ".py",
   "mimetype": "text/x-python",
   "name": "python",
   "nbconvert_exporter": "python",
   "pygments_lexer": "ipython3",
   "version": "3.9.13"
  }
 },
 "nbformat": 4,
 "nbformat_minor": 5
}
